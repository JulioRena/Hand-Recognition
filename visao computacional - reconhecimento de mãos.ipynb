{
 "cells": [
  {
   "cell_type": "code",
   "execution_count": 1,
   "metadata": {},
   "outputs": [],
   "source": [
    "import cv2\n",
    "import mediapipe as mp"
   ]
  },
  {
   "cell_type": "code",
   "execution_count": 2,
   "metadata": {},
   "outputs": [],
   "source": [
    "webcam = cv2.VideoCapture(0) #criar conexão com webcam\n",
    "\n",
    "#inicializando o mediapipe\n",
    "reconhecimento_maos = mp.solutions.hands\n",
    "desenho_mp = mp.solutions.drawing_utils\n",
    "maos = reconhecimento_maos.Hands()\n"
   ]
  },
  {
   "cell_type": "code",
   "execution_count": 3,
   "metadata": {},
   "outputs": [],
   "source": [
    "\n",
    "#criando função para abrir camera e validar as mãos\n",
    "if webcam.isOpened():\n",
    "    validacao, frame = webcam.read()\n",
    "    while validacao == True:\n",
    "        #pegar o proximo frame da tela\n",
    "        validacao, frame = webcam.read()\n",
    "        #Converter a ordem das cores do open cv para RGB\n",
    "        frameRGB = cv2.cvtColor(frame, cv2.COLOR_BGR2RGB)\n",
    "        \n",
    "        lista_maos = maos.process(frameRGB)\n",
    "        \n",
    "        if lista_maos.multi_hand_landmarks:\n",
    "            for mao in lista_maos.multi_hand_landmarks:\n",
    "                desenho_mp.draw_landmarks(frame,mao, reconhecimento_maos.HAND_CONNECTIONS)\n",
    "        #mostrar o frame que o python está vendo\n",
    "        cv2.imshow(\"Video da webcam\", frame)\n",
    "        #mandar esperar\n",
    "        tecla = cv2.waitKey(2)\n",
    "        #mandar parar o codigo se clicar no esc (27)\n",
    "        if tecla == 27:\n",
    "            break"
   ]
  },
  {
   "cell_type": "code",
   "execution_count": 4,
   "metadata": {},
   "outputs": [],
   "source": [
    "webcam.release()\n",
    "cv2.destroyAllWindows()"
   ]
  }
 ],
 "metadata": {
  "kernelspec": {
   "display_name": "Python 3",
   "language": "python",
   "name": "python3"
  },
  "language_info": {
   "codemirror_mode": {
    "name": "ipython",
    "version": 3
   },
   "file_extension": ".py",
   "mimetype": "text/x-python",
   "name": "python",
   "nbconvert_exporter": "python",
   "pygments_lexer": "ipython3",
   "version": "3.8.3"
  }
 },
 "nbformat": 4,
 "nbformat_minor": 4
}
